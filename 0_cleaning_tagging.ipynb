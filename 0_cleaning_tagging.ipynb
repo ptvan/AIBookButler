{
 "cells": [
  {
   "cell_type": "code",
   "execution_count": 6,
   "id": "5e5fbb87",
   "metadata": {},
   "outputs": [
    {
     "name": "stdout",
     "output_type": "stream",
     "text": [
      "raw rows: 6810\n",
      "complete rows: 6507\n",
      "cleaned rows: 5197\n"
     ]
    }
   ],
   "source": [
    "import pandas as pd\n",
    "import numpy as np\n",
    "import seaborn as sns\n",
    "import matplotlib.pyplot as plt\n",
    "\n",
    "pd.options.mode.chained_assignment = None\n",
    "\n",
    "books = pd.read_csv(\"~/working/BookButler/data/7Kbooks.csv\")\n",
    "print(\"raw rows:\", books.shape[0])\n",
    "\n",
    "# ax = plt.axes()\n",
    "# sns.heatmap(books.isna().transpose(), cbar=False, ax=ax)\n",
    "\n",
    "books_noNAs = books[~(books[\"description\"].isna()) &\n",
    "                      ~(books[\"num_pages\"].isna()) &\n",
    "                      ~(books[\"average_rating\"].isna()) &\n",
    "                      ~(books[\"published_year\"].isna())  \n",
    "                      ]\n",
    "print(\"complete rows:\", books_noNAs.shape[0])\n",
    "\n",
    "books_noNAs[\"description_length\"] = books_noNAs[\"description\"].str.split().str.len()\n",
    "books_noNAs[\"complete_title\"] = (np.where(books_noNAs[\"subtitle\"].isna(), \n",
    "                                          books_noNAs[\"title\"], \n",
    "                                          books_noNAs[[\"title\", \"subtitle\"]].astype(str).agg(\": \".join, axis=1))\n",
    "                                 )\n",
    "books_noNAs[\"tag\"] = books_noNAs[[\"isbn13\", \"description\"]].astype(str).agg(\": \".join, axis=1)\n",
    "books_cleaned = books_noNAs[books_noNAs[\"description_length\"] >= 25]\n",
    "print(\"cleaned rows:\", books_cleaned.shape[0])\n",
    "books_cleaned.drop([\"description_length\"], axis=1).to_csv(\"cleaned.csv\", index=False)\n",
    "\n",
    "books_noNAs[\"tag\"].to_csv(\"./data/tag_descriptions.csv\", sep=\"\\n\", header=False, index=False)\n"
   ]
  }
 ],
 "metadata": {
  "kernelspec": {
   "display_name": "base",
   "language": "python",
   "name": "python3"
  },
  "language_info": {
   "codemirror_mode": {
    "name": "ipython",
    "version": 3
   },
   "file_extension": ".py",
   "mimetype": "text/x-python",
   "name": "python",
   "nbconvert_exporter": "python",
   "pygments_lexer": "ipython3",
   "version": "3.12.5"
  }
 },
 "nbformat": 4,
 "nbformat_minor": 5
}
