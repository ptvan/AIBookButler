{
 "cells": [
  {
   "cell_type": "code",
   "execution_count": null,
   "id": "0b135c0d",
   "metadata": {},
   "outputs": [],
   "source": [
    "from langchain_community.document_loaders import TextLoader\n",
    "from langchain_text_splitters import CharacterTextSplitter\n",
    "from langchain_chroma import Chroma\n",
    "from langchain_ollama import OllamaEmbeddings\n",
    "import pandas as pd\n",
    "\n",
    "embeddings = OllamaEmbeddings(model=\"nomic-embed-text\")\n",
    "\n",
    "raw_documents = TextLoader(\"data/tag_descriptions_cleaned.csv\").load()\n",
    "text_splitter = CharacterTextSplitter(chunk_size=2000, chunk_overlap=0, separator=\"\\n\")\n",
    "documents = text_splitter.split_documents(raw_documents)\n",
    "\n",
    "books_db = Chroma.from_documents(documents=raw_documents, embedding=embeddings, persist_directory='./')"
   ]
  },
  {
   "cell_type": "code",
   "execution_count": null,
   "id": "a399d0ae",
   "metadata": {},
   "outputs": [],
   "source": [
    "# querying\n",
    "query = \"A book about sailing\"\n",
    "\n",
    "results = books_db.similarity_search_with_score(query, k=5)\n",
    "\n",
    "for res, score in results:\n",
    "    print(f\"* [SIM={score:3f}] {res.page_content} [{res.metadata}]\")"
   ]
  }
 ],
 "metadata": {
  "kernelspec": {
   "display_name": "base",
   "language": "python",
   "name": "python3"
  },
  "language_info": {
   "codemirror_mode": {
    "name": "ipython",
    "version": 3
   },
   "file_extension": ".py",
   "mimetype": "text/x-python",
   "name": "python",
   "nbconvert_exporter": "python",
   "pygments_lexer": "ipython3",
   "version": "3.12.5"
  }
 },
 "nbformat": 4,
 "nbformat_minor": 5
}
