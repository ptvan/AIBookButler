{
 "cells": [
  {
   "cell_type": "code",
   "execution_count": 2,
   "id": "5e5fbb87",
   "metadata": {},
   "outputs": [],
   "source": [
    "import pandas as pd\n",
    "from langchain_community.document_loaders import CSVLoader\n",
    "from langchain_text_splitters import CharacterTextSplitter\n",
    "from langchain_chroma import Chroma\n",
    "from langchain_ollama import OllamaEmbeddings\n",
    "\n",
    "# read in CSV data and load into vector database\n",
    "embeddings = OllamaEmbeddings(model=\"mxbai-embed-large\")\n",
    "\n",
    "raw_documents = CSVLoader(\"./data/totally_real_books.csv\").load()\n",
    "text_splitter = CharacterTextSplitter(chunk_size=0, chunk_overlap=0)\n",
    "documents = text_splitter.split_documents(raw_documents)\n",
    "\n",
    "books_db = Chroma.from_documents(documents=raw_documents, embedding=embeddings)\n"
   ]
  },
  {
   "cell_type": "code",
   "execution_count": 3,
   "id": "2ff854c0",
   "metadata": {},
   "outputs": [
    {
     "data": {
      "text/html": [
       "<div>\n",
       "<style scoped>\n",
       "    .dataframe tbody tr th:only-of-type {\n",
       "        vertical-align: middle;\n",
       "    }\n",
       "\n",
       "    .dataframe tbody tr th {\n",
       "        vertical-align: top;\n",
       "    }\n",
       "\n",
       "    .dataframe thead th {\n",
       "        text-align: right;\n",
       "    }\n",
       "</style>\n",
       "<table border=\"1\" class=\"dataframe\">\n",
       "  <thead>\n",
       "    <tr style=\"text-align: right;\">\n",
       "      <th></th>\n",
       "      <th>title</th>\n",
       "      <th>author</th>\n",
       "      <th>description</th>\n",
       "      <th>publisher</th>\n",
       "      <th>year</th>\n",
       "    </tr>\n",
       "  </thead>\n",
       "  <tbody>\n",
       "    <tr>\n",
       "      <th>0</th>\n",
       "      <td>Historic Michigan: Stories About The Great Lak...</td>\n",
       "      <td>Arthur Ageless</td>\n",
       "      <td>A book about Michigan, and how its geography s...</td>\n",
       "      <td>HistoryAlivePublishing</td>\n",
       "      <td>1911</td>\n",
       "    </tr>\n",
       "    <tr>\n",
       "      <th>1</th>\n",
       "      <td>Historic Michigan: Stories About The Great Lak...</td>\n",
       "      <td>Arthur Ageless</td>\n",
       "      <td>A book about Michigan, and how its geography s...</td>\n",
       "      <td>HistoryAlivePublishing</td>\n",
       "      <td>1911</td>\n",
       "    </tr>\n",
       "    <tr>\n",
       "      <th>2</th>\n",
       "      <td>Southern Belle: A Romance</td>\n",
       "      <td>Riley Roman</td>\n",
       "      <td>A romantic story set in Alabama, full of drama...</td>\n",
       "      <td>Belles &amp; Co</td>\n",
       "      <td>1936</td>\n",
       "    </tr>\n",
       "  </tbody>\n",
       "</table>\n",
       "</div>"
      ],
      "text/plain": [
       "                                               title          author  \\\n",
       "0  Historic Michigan: Stories About The Great Lak...  Arthur Ageless   \n",
       "1  Historic Michigan: Stories About The Great Lak...  Arthur Ageless   \n",
       "2                          Southern Belle: A Romance     Riley Roman   \n",
       "\n",
       "                                         description               publisher  \\\n",
       "0  A book about Michigan, and how its geography s...  HistoryAlivePublishing   \n",
       "1  A book about Michigan, and how its geography s...  HistoryAlivePublishing   \n",
       "2  A romantic story set in Alabama, full of drama...             Belles & Co   \n",
       "\n",
       "   year  \n",
       "0  1911  \n",
       "1  1911  \n",
       "2  1936  "
      ]
     },
     "execution_count": 3,
     "metadata": {},
     "output_type": "execute_result"
    }
   ],
   "source": [
    "# perform similarity search on vector database and return top hits\n",
    "def get_recommendations(\n",
    "        query: str,\n",
    "        top_hits: int = 3) -> pd.DataFrame:\n",
    "    results = books_db.similarity_search(query, k=top_hits)\n",
    "\n",
    "    search_hits = []\n",
    "    for i in range(0, len(results)):\n",
    "        [title, author, description, publisher, year] = results[i].page_content.split(\"\\n\")\n",
    "        search_hits.append({\n",
    "            'title': title.replace('title: ',\"\"),\n",
    "            'author': author.replace('author: ',\"\"),\n",
    "            'description': description.replace('description: ',\"\"),\n",
    "            'publisher': publisher.replace('publisher: ',\"\"),\n",
    "            'year': year.replace('year: ',\"\")\n",
    "        }\n",
    "        )\n",
    "    return pd.DataFrame(search_hits)\n",
    "\n",
    "get_recommendations(\"A book about Michigan\")"
   ]
  }
 ],
 "metadata": {
  "kernelspec": {
   "display_name": "base",
   "language": "python",
   "name": "python3"
  },
  "language_info": {
   "codemirror_mode": {
    "name": "ipython",
    "version": 3
   },
   "file_extension": ".py",
   "mimetype": "text/x-python",
   "name": "python",
   "nbconvert_exporter": "python",
   "pygments_lexer": "ipython3",
   "version": "3.12.5"
  }
 },
 "nbformat": 4,
 "nbformat_minor": 5
}
