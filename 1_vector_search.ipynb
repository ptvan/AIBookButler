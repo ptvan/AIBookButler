{
 "cells": [
  {
   "cell_type": "code",
   "execution_count": null,
   "id": "0b135c0d",
   "metadata": {},
   "outputs": [
    {
     "name": "stderr",
     "output_type": "stream",
     "text": [
      "Created a chunk of size 2005, which is longer than the specified 2000\n",
      "Created a chunk of size 2007, which is longer than the specified 2000\n",
      "Created a chunk of size 2821, which is longer than the specified 2000\n",
      "Created a chunk of size 2501, which is longer than the specified 2000\n",
      "Created a chunk of size 2280, which is longer than the specified 2000\n",
      "Created a chunk of size 2603, which is longer than the specified 2000\n",
      "Created a chunk of size 2031, which is longer than the specified 2000\n",
      "Created a chunk of size 2741, which is longer than the specified 2000\n",
      "Created a chunk of size 2108, which is longer than the specified 2000\n",
      "Created a chunk of size 2200, which is longer than the specified 2000\n",
      "Created a chunk of size 2872, which is longer than the specified 2000\n",
      "Created a chunk of size 2399, which is longer than the specified 2000\n",
      "Created a chunk of size 2121, which is longer than the specified 2000\n",
      "Created a chunk of size 2164, which is longer than the specified 2000\n",
      "Created a chunk of size 2166, which is longer than the specified 2000\n",
      "Created a chunk of size 2698, which is longer than the specified 2000\n",
      "Created a chunk of size 2451, which is longer than the specified 2000\n",
      "Created a chunk of size 2437, which is longer than the specified 2000\n",
      "Created a chunk of size 3169, which is longer than the specified 2000\n",
      "Created a chunk of size 2009, which is longer than the specified 2000\n",
      "Created a chunk of size 2032, which is longer than the specified 2000\n",
      "Created a chunk of size 2941, which is longer than the specified 2000\n",
      "Created a chunk of size 2147, which is longer than the specified 2000\n",
      "Created a chunk of size 2485, which is longer than the specified 2000\n",
      "Created a chunk of size 3771, which is longer than the specified 2000\n",
      "Created a chunk of size 2653, which is longer than the specified 2000\n",
      "Created a chunk of size 5767, which is longer than the specified 2000\n",
      "Created a chunk of size 2066, which is longer than the specified 2000\n",
      "Created a chunk of size 2003, which is longer than the specified 2000\n",
      "Created a chunk of size 2083, which is longer than the specified 2000\n",
      "Created a chunk of size 2298, which is longer than the specified 2000\n",
      "Created a chunk of size 2072, which is longer than the specified 2000\n",
      "Created a chunk of size 2022, which is longer than the specified 2000\n",
      "Created a chunk of size 2023, which is longer than the specified 2000\n",
      "Created a chunk of size 2347, which is longer than the specified 2000\n",
      "Created a chunk of size 2346, which is longer than the specified 2000\n",
      "Created a chunk of size 2345, which is longer than the specified 2000\n",
      "Created a chunk of size 2319, which is longer than the specified 2000\n",
      "Created a chunk of size 2921, which is longer than the specified 2000\n",
      "Created a chunk of size 3222, which is longer than the specified 2000\n",
      "Created a chunk of size 2751, which is longer than the specified 2000\n",
      "Created a chunk of size 2076, which is longer than the specified 2000\n",
      "Created a chunk of size 2013, which is longer than the specified 2000\n",
      "Created a chunk of size 2708, which is longer than the specified 2000\n",
      "Created a chunk of size 2273, which is longer than the specified 2000\n",
      "Created a chunk of size 2052, which is longer than the specified 2000\n",
      "Created a chunk of size 2015, which is longer than the specified 2000\n",
      "Created a chunk of size 2068, which is longer than the specified 2000\n",
      "Created a chunk of size 2856, which is longer than the specified 2000\n",
      "Created a chunk of size 2844, which is longer than the specified 2000\n",
      "Created a chunk of size 2322, which is longer than the specified 2000\n",
      "Created a chunk of size 2452, which is longer than the specified 2000\n",
      "Created a chunk of size 2130, which is longer than the specified 2000\n",
      "Created a chunk of size 2737, which is longer than the specified 2000\n",
      "Created a chunk of size 3905, which is longer than the specified 2000\n"
     ]
    }
   ],
   "source": [
    "from langchain_community.document_loaders import TextLoader\n",
    "from langchain_text_splitters import CharacterTextSplitter\n",
    "from langchain_chroma import Chroma\n",
    "from langchain_ollama import OllamaEmbeddings\n",
    "from chromadb.utils.embedding_functions import OllamaEmbeddingFunction\n",
    "import pandas as pd\n",
    "\n",
    "embeddings = OllamaEmbeddings(model=\"mxbai-embed-large\")\n",
    "ef = OllamaEmbeddingFunction(\n",
    "    model_name=\"nomic-embed-text\",\n",
    "    url=\"http://localhost:11434/api/embeddings\",\n",
    ")\n",
    "\n",
    "books = pd.read_csv(\"data/cleaned.csv\")\n",
    "raw_documents = TextLoader(\"data/tag_descriptions_cleaned.csv\").load()\n",
    "text_splitter = CharacterTextSplitter(chunk_size=2000, chunk_overlap=0, separator=\"\\n\")\n",
    "documents = text_splitter.split_documents(raw_documents)\n",
    "\n",
    "books_db = Chroma.from_documents(documents=raw_documents, embedding=embeddings, persist_directory='./')"
   ]
  },
  {
   "cell_type": "code",
   "execution_count": null,
   "id": "a399d0ae",
   "metadata": {},
   "outputs": [
    {
     "name": "stdout",
     "output_type": "stream",
     "text": [
      "0.9264920353889465\n",
      "0.9264920353889465\n",
      "0.9264920353889465\n",
      "0.9264920353889465\n",
      "0.9264920353889465\n"
     ]
    }
   ],
   "source": [
    "# querying\n",
    "query = \"Christie for Christmas\"\n",
    "\n",
    "# db_books.query(\n",
    "#     query_texts=[\"doc10\", \"thus spake zarathustra\", ...],\n",
    "#     n_results=10,\n",
    "#     where={\"metadata_field\": \"is_equal_to_this\"},\n",
    "#     where_document={\"$contains\":\"search_string\"}\n",
    "# )\n",
    "results = books_db.similarity_search_with_score(query, k=5)\n",
    "\n",
    "\n",
    "for res, score in results:\n",
    "#    print(f\"* [SIM={score:3f}] {res.page_content} [{res.metadata}]\")\n",
    "    print(score)"
   ]
  }
 ],
 "metadata": {
  "kernelspec": {
   "display_name": "base",
   "language": "python",
   "name": "python3"
  },
  "language_info": {
   "codemirror_mode": {
    "name": "ipython",
    "version": 3
   },
   "file_extension": ".py",
   "mimetype": "text/x-python",
   "name": "python",
   "nbconvert_exporter": "python",
   "pygments_lexer": "ipython3",
   "version": "3.12.5"
  }
 },
 "nbformat": 4,
 "nbformat_minor": 5
}
